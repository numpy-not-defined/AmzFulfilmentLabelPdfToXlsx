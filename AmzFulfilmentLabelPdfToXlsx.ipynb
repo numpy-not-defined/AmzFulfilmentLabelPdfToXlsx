{
 "cells": [
  {
   "cell_type": "code",
   "execution_count": 1,
   "id": "8f80ecd6",
   "metadata": {
    "scrolled": true
   },
   "outputs": [],
   "source": [
    "import fitz\n",
    "import pandas as pd"
   ]
  },
  {
   "cell_type": "code",
   "execution_count": 2,
   "id": "b814c5de",
   "metadata": {
    "scrolled": true
   },
   "outputs": [
    {
     "name": "stdout",
     "output_type": "stream",
     "text": [
      "page 0 of merged.pdf\n",
      "['X001IYJVB9', '4 Pack Hanging Railing ...alcony Porch Fence,Round', 'New', '']\n",
      "page 1 of merged.pdf\n",
      "['X001IYJVBJ', 'TIANTIAN 60 Shade Cloth ...Shade Fabric Accessories', 'New', '']\n",
      "page 2 of merged.pdf\n",
      "['X001IYJVBT', '4 Pack Round Hanging Ra...atio Balcony Porch Fence', 'New', '']\n",
      "page 3 of merged.pdf\n",
      "['X001IYJVC3', '2 Pack Hanging Railing P...lcony Porch Fence,Square', 'New', '']\n",
      "page 4 of merged.pdf\n",
      "['X001IYJVCD', '2 Pack Hanging Railing P...lcony Porch Fence,Square', 'New', '']\n",
      "page 5 of merged.pdf\n",
      "['X001IYJVCN', '6 Pcs Large Self-Watering...ng System for Plant,Heart', 'New', '']\n",
      "page 6 of merged.pdf\n",
      "['X001IYJZFB', 'Transparent Seedling Sta...row Starting Germination', 'New', '']\n",
      "page 7 of merged.pdf\n",
      "['X001IYJZFL', 'Hanging Railing Planter ... Stand with Folding Stand', 'New', '']\n",
      "page 8 of merged.pdf\n",
      "['X001IYJZFV', 'Transparent Seedling Sta...row Starting Germination', 'New', '']\n",
      "page 9 of merged.pdf\n",
      "['X001IYJZG5', '16 Pack 18\" Plant Suppor...wist Ties for Flower Stem', 'New', '']\n",
      "page 10 of merged.pdf\n",
      "['X001IYJZGF', 'Hanging Plants Bracket P...utdoor Indoor Patio Decor', 'New', '']\n",
      "page 11 of merged.pdf\n",
      "['X001IYJZGP', '50 Pack Bubble Out Bags Wra...hipping,Storage&Moving,4\"x6\"', '新品', '']\n",
      "page 12 of merged.pdf\n",
      "['X001IYJZGZ', '3 Pcs Rustic Wooden Ba...tdoor Indoor Home Decor', 'New', '']\n",
      "page 13 of merged.pdf\n",
      "['X001IYJZH9', '6 Pcs Large Self-Watering...ring System for Plant,Owl', 'New', '']\n",
      "page 14 of merged.pdf\n",
      "['X001IYJZHJ', '6 Pcs Large Self-Watering...ring System for Plant,Bird', 'New', '']\n",
      "page 15 of merged.pdf\n",
      "['X001IYJZHT', '4 Pack Round Hanging Ra...atio Balcony Porch Fence', 'New', '']\n",
      "page 16 of merged.pdf\n",
      "['X001IYJZI3', '8 Pcs Plant Watering Bul...em Clear Watering Stakes', 'New', '']\n",
      "page 17 of merged.pdf\n",
      "['X001IYJZID', '12Pcs Plant Watering Bul...em Clear Watering Stakes', 'New', '']\n",
      "page 18 of merged.pdf\n",
      "['X001IYKYMJ', '3 Pcs Parrot Cage Perch ...tiel Hamster Gerbil Mouse', 'New', '']\n",
      "page 19 of merged.pdf\n",
      "['X001IYKYMT', '4 Pack Hanging Railing ...alcony Porch Fence,Round', 'New', '']\n",
      "page 20 of merged.pdf\n",
      "['X001IYKYN3', '2 Pack Glass Plant Mister...o Plastic Nozzle Top Pump', 'New', '']\n",
      "page 21 of merged.pdf\n",
      "['X001IYKYND', '16 Pack 16\" Plant Support Stak...lips Twist Ties for Flower Stem', '新品', '']\n",
      "page 22 of merged.pdf\n",
      "['X001IYKYNN', 'Hanging Plants Bracket P...utdoor Indoor Patio Decor', 'New', '']\n",
      "page 23 of merged.pdf\n",
      "['X001IYKYNX', '30 Pcs Lollipop Resin Cha...Y Jewelry Making Supplies', 'New', '']\n",
      "page 24 of merged.pdf\n",
      "['X001IYKYO7', '12Pcs Plant Watering Bul...em Clear Watering Stakes', 'New', '']\n",
      "page 25 of merged.pdf\n",
      "['X001IYKYOH', '8 Pcs Plant Watering Bul...em Clear Watering Stakes', 'New', '']\n",
      "page 26 of merged.pdf\n",
      "['X001IYKYOR', '4 Pack Round Hanging Ra...atio Balcony Porch Fence', 'New', '']\n",
      "page 27 of merged.pdf\n",
      "['X001IYKYP1', '12Pcs Plant Watering Bul...em Clear Watering Stakes', 'New', '']\n",
      "page 28 of merged.pdf\n",
      "['X001IYL1A3', '3 Pcs Rustic Wooden Ba...tdoor Indoor Home Decor', 'New', 'X001IYL1A3', '3 Pcs Rustic Wooden Ba...tdoor Indoor Home Decor', 'New', '']\n",
      "page 29 of merged.pdf\n",
      "['X001IYL1AN', '50 Pack Bubble Out Bags...ing,Storage&Moving,4\"x8\"', 'New', '']\n",
      "page 30 of merged.pdf\n",
      "['X001IYL1AX', 'Hanging Railing Planter ...alcony Porch Fence,Square', 'New', '']\n",
      "page 31 of merged.pdf\n",
      "['X001IYL1B7', '6 Pcs Large Self-Waterin...ing System for Plant,Rose', 'New', '']\n",
      "page 32 of merged.pdf\n",
      "['X001IYL1BR', '4 Pack Round Hanging Ra...atio Balcony Porch Fence', 'New', '']\n",
      "page 33 of merged.pdf\n",
      "['X001IYL1C1', '6 Pcs Large Self-Watering...ring System for Plant,Star', 'New', '']\n",
      "page 34 of merged.pdf\n",
      "['X001IYL1CB', '8 Pcs Plant Watering Bul...em Clear Watering Stakes', 'New', '']\n",
      "page 35 of merged.pdf\n",
      "['X001IYL1CL', '4 Pack Dog Summer Dress... and Bow-Knot for Cats,L', 'New', '']\n",
      "page 36 of merged.pdf\n",
      "['X001IYL19J', '2 Pack Glass Plant Mister Wat...Retro Plastic Nozzle Top Pump', '新品', '']\n",
      "page 37 of merged.pdf\n",
      "['X001IYL19T', 'Hanging Railing Planter M...g Stand&Easy Installation', 'New', '']\n",
      "page 38 of merged.pdf\n",
      "['X001IYL199', 'Transparent Seedling Sta...row Starting Germination', 'New', '']\n",
      "page 39 of merged.pdf\n",
      "['X001J8A9W9', 'Dollhouse Wallpaper Exquisit...allpaper Real Life DIY Decor', '新品', '']\n",
      "page 40 of merged.pdf\n",
      "['X001IYJV9V', '3 Pcs Rustic Wooden Ba...tdoor Indoor Home Decor', 'New', '']\n",
      "page 41 of merged.pdf\n",
      "['X001IYJVA5', '2 Pack Glass Plant Mister Wat...Retro Plastic Nozzle Top Pump', '新品', '']\n",
      "page 42 of merged.pdf\n",
      "['X001IYJVAF', '50 Shade Cloth Clips Bir... Fabric Accessories,16MM', 'New', '']\n",
      "page 43 of merged.pdf\n",
      "['X001IYJVAP', 'Dollhouse Floorboards Wa...aper Real Life DIY Decor', 'New', '']\n",
      "page 44 of merged.pdf\n",
      "['X001IYJVAZ', 'Hanging Plants Bracket P...utdoor Indoor Patio Decor', 'New', '']\n"
     ]
    }
   ],
   "source": [
    "with fitz.open(\"merged.pdf\") as doc:\n",
    "    text = []\n",
    "    for page in doc:\n",
    "        text = page.get_text().split(\"\\n\")\n",
    "        print(page)\n",
    "        print(text)"
   ]
  },
  {
   "cell_type": "code",
   "execution_count": 3,
   "id": "78090965",
   "metadata": {},
   "outputs": [
    {
     "name": "stdout",
     "output_type": "stream",
     "text": [
      "7\n"
     ]
    }
   ],
   "source": [
    "with fitz.open(\"merged.pdf\") as doc:\n",
    "    print(len(doc[28].get_text().split(\"\\n\")))"
   ]
  },
  {
   "cell_type": "markdown",
   "id": "09d4ef79",
   "metadata": {},
   "source": [
    "Page 28 looks problematic. For every other page, we've got a list of 4 elements. However, this one has 7."
   ]
  },
  {
   "cell_type": "code",
   "execution_count": 4,
   "id": "a6051a8d",
   "metadata": {
    "scrolled": false
   },
   "outputs": [],
   "source": [
    "# init empty dataframe with columns\n",
    "df2=pd.DataFrame(columns=['fnsku','desc','status'])\n",
    "\n",
    "# for loop to iterate through pdf pages\n",
    "with fitz.open(\"merged.pdf\") as doc:\n",
    "    text = []\n",
    "    for page in doc:\n",
    "        text = page.get_text().split(\"\\n\")\n",
    "        \n",
    "        # if else logic test to catch the abnormal page 28, split the list and add a '' to the list with 3 elements.\n",
    "        if len(text) == 7:\n",
    "            text_1 = text[0:2]\n",
    "            text_1.append(\"New\")\n",
    "            text_2 = text[3:6]\n",
    "            df2 = df2.append(pd.DataFrame([text_1],columns=['fnsku','desc','status']),ignore_index = True)\n",
    "            df2 = df2.append(pd.DataFrame([text_2],columns=['fnsku','desc','status']),ignore_index = True)\n",
    "        else:\n",
    "            df2 = df2.append(pd.DataFrame([text[0:3]],columns=['fnsku','desc','status']),ignore_index = True)\n",
    "\n",
    "# removes duplicate rows\n",
    "df2 = df2.drop_duplicates()\n",
    "df2 = df2.dropna()"
   ]
  },
  {
   "cell_type": "code",
   "execution_count": 5,
   "id": "e0148ea6",
   "metadata": {
    "scrolled": true
   },
   "outputs": [
    {
     "data": {
      "text/html": [
       "<div>\n",
       "<style scoped>\n",
       "    .dataframe tbody tr th:only-of-type {\n",
       "        vertical-align: middle;\n",
       "    }\n",
       "\n",
       "    .dataframe tbody tr th {\n",
       "        vertical-align: top;\n",
       "    }\n",
       "\n",
       "    .dataframe thead th {\n",
       "        text-align: right;\n",
       "    }\n",
       "</style>\n",
       "<table border=\"1\" class=\"dataframe\">\n",
       "  <thead>\n",
       "    <tr style=\"text-align: right;\">\n",
       "      <th></th>\n",
       "      <th>fnsku</th>\n",
       "      <th>desc</th>\n",
       "      <th>status</th>\n",
       "    </tr>\n",
       "  </thead>\n",
       "  <tbody>\n",
       "    <tr>\n",
       "      <th>0</th>\n",
       "      <td>X001IYJVB9</td>\n",
       "      <td>4 Pack Hanging Railing ...alcony Porch Fence,R...</td>\n",
       "      <td>New</td>\n",
       "    </tr>\n",
       "    <tr>\n",
       "      <th>1</th>\n",
       "      <td>X001IYJVBJ</td>\n",
       "      <td>TIANTIAN 60 Shade Cloth ...Shade Fabric Access...</td>\n",
       "      <td>New</td>\n",
       "    </tr>\n",
       "    <tr>\n",
       "      <th>2</th>\n",
       "      <td>X001IYJVBT</td>\n",
       "      <td>4 Pack Round Hanging Ra...atio Balcony Porch F...</td>\n",
       "      <td>New</td>\n",
       "    </tr>\n",
       "    <tr>\n",
       "      <th>3</th>\n",
       "      <td>X001IYJVC3</td>\n",
       "      <td>2 Pack Hanging Railing P...lcony Porch Fence,S...</td>\n",
       "      <td>New</td>\n",
       "    </tr>\n",
       "    <tr>\n",
       "      <th>4</th>\n",
       "      <td>X001IYJVCD</td>\n",
       "      <td>2 Pack Hanging Railing P...lcony Porch Fence,S...</td>\n",
       "      <td>New</td>\n",
       "    </tr>\n",
       "  </tbody>\n",
       "</table>\n",
       "</div>"
      ],
      "text/plain": [
       "        fnsku                                               desc status\n",
       "0  X001IYJVB9  4 Pack Hanging Railing ...alcony Porch Fence,R...    New\n",
       "1  X001IYJVBJ  TIANTIAN 60 Shade Cloth ...Shade Fabric Access...    New\n",
       "2  X001IYJVBT  4 Pack Round Hanging Ra...atio Balcony Porch F...    New\n",
       "3  X001IYJVC3  2 Pack Hanging Railing P...lcony Porch Fence,S...    New\n",
       "4  X001IYJVCD  2 Pack Hanging Railing P...lcony Porch Fence,S...    New"
      ]
     },
     "execution_count": 5,
     "metadata": {},
     "output_type": "execute_result"
    }
   ],
   "source": [
    "df2.head()"
   ]
  },
  {
   "cell_type": "markdown",
   "id": "91971fba",
   "metadata": {},
   "source": [
    "Looks good to me, now we need to concatenate desc and status together, with a row splitter between them."
   ]
  },
  {
   "cell_type": "code",
   "execution_count": 6,
   "id": "4dde5c83",
   "metadata": {
    "scrolled": true
   },
   "outputs": [
    {
     "data": {
      "text/plain": [
       "'4 Pack Hanging Railing ...alcony Porch Fence,Round\\rNew'"
      ]
     },
     "execution_count": 6,
     "metadata": {},
     "output_type": "execute_result"
    }
   ],
   "source": [
    "df2[\"newdesc\"] = df2[\"desc\"] + \"\\r\" +df2[\"status\"]\n",
    "df2.iloc[0,3]"
   ]
  },
  {
   "cell_type": "markdown",
   "id": "2348f8c6",
   "metadata": {},
   "source": [
    "Exactly what we want, now we drop unwanted columns and export it to xlsx."
   ]
  },
  {
   "cell_type": "code",
   "execution_count": 7,
   "id": "ab7002d4",
   "metadata": {},
   "outputs": [],
   "source": [
    "import xlsxwriter\n",
    "writer = pd.ExcelWriter('output.xlsx', engine='xlsxwriter')\n",
    "df2.drop(columns=['desc', 'status']).to_excel(writer, sheet_name='Sheet1', index=False, header=False)\n",
    "writer.save()"
   ]
  }
 ],
 "metadata": {
  "kernelspec": {
   "display_name": "Python 3 (ipykernel)",
   "language": "python",
   "name": "python3"
  },
  "language_info": {
   "codemirror_mode": {
    "name": "ipython",
    "version": 3
   },
   "file_extension": ".py",
   "mimetype": "text/x-python",
   "name": "python",
   "nbconvert_exporter": "python",
   "pygments_lexer": "ipython3",
   "version": "3.9.6"
  }
 },
 "nbformat": 4,
 "nbformat_minor": 5
}
